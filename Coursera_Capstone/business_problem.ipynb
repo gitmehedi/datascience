{
 "cells": [
  {
   "cell_type": "markdown",
   "metadata": {},
   "source": [
    "# Location Recommendation for a New Business Unit"
   ]
  },
  {
   "cell_type": "markdown",
   "metadata": {},
   "source": [
    "## Business Problem Statement\n",
    "Toronto is the capital of the province of Ontario and is one of the most populous cities in Canada. Apart from being the financial capital of the country, Toronto is home for arts and culture, and is thus recognised as one of the most multicultural and cosmopolitan cities in the world. Toronto is one of the most sought-after destination for immigrants from several years making it rich in its ethnic diversity. \n",
    "\n",
    "Over the past two decades, immigration numbers increased significantly, with the maximum number of immigrants coming from South Asian origin. Among these countries, Indians rank first in the list and Indo-Canadians are one of the fastest growing communities in Toronto.\n",
    "\n",
    "Owing to the rich cultural and diverse heritage of Toronto, a Business entrepreneur wants to open an ‘Indian Arts, Dance and Cultural Centre’ in one of the neighborhoods. This centre would adhere to the needs of residents with Indian origin by providing facilities for learning different art and dance forms. The centre would also organise several cultural events reflecting the vast and diverse heritage of India. The goal of this project would be to help this entrepreneur identify a suitable location for establishing this business unit.\n",
    "\n",
    "### Solution to the Business Problem\n",
    "It is a well-known fact that the success of any business depends on a broad spectrum of factors. Apart from the services offered by the company, the entrepreneur should focus on the location, demographics of a given area, neighborhoods and other specific factors related to the business domain. A proper location can then be identified by analyzing all the related aspects. This is a very crucial step that would ensure success for the business at hand. \n",
    "The ideal location for establishing the business unit under discussion would be in a neighborhood that is mostly inhabited by people with Indian origin or closer to such neighborhoods. This location should be well connected, and restaurants and coffee shops should be in the vicinity, so that food needs of the customers could be easily met. To get the location of restaurants, coffee shops and other amenities in each neighbourhood, Foursquare location data will be used.\n",
    "\n",
    "### Stakeholders:\n",
    "The stakeholders for this business solution would be any entrepreneur or government body interested in establishing new business units or centers catering to the needs of a given ethnic community. \n",
    "\n"
   ]
  },
  {
   "cell_type": "code",
   "execution_count": null,
   "metadata": {},
   "outputs": [],
   "source": []
  }
 ],
 "metadata": {
  "kernelspec": {
   "display_name": "Python 3",
   "language": "python",
   "name": "python3"
  },
  "language_info": {
   "codemirror_mode": {
    "name": "ipython",
    "version": 3
   },
   "file_extension": ".py",
   "mimetype": "text/x-python",
   "name": "python",
   "nbconvert_exporter": "python",
   "pygments_lexer": "ipython3",
   "version": "3.6.4"
  }
 },
 "nbformat": 4,
 "nbformat_minor": 2
}
