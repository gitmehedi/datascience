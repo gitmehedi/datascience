{
 "cells": [
  {
   "cell_type": "code",
   "execution_count": 153,
   "metadata": {},
   "outputs": [],
   "source": [
    "import pandas as pd\n",
    "import numpy as np\n",
    "import matplotlib.pyplot as plt\n",
    "%matplotlib inline"
   ]
  },
  {
   "cell_type": "code",
   "execution_count": 154,
   "metadata": {},
   "outputs": [
    {
     "data": {
      "text/html": [
       "<div>\n",
       "<style scoped>\n",
       "    .dataframe tbody tr th:only-of-type {\n",
       "        vertical-align: middle;\n",
       "    }\n",
       "\n",
       "    .dataframe tbody tr th {\n",
       "        vertical-align: top;\n",
       "    }\n",
       "\n",
       "    .dataframe thead th {\n",
       "        text-align: right;\n",
       "    }\n",
       "</style>\n",
       "<table border=\"1\" class=\"dataframe\">\n",
       "  <thead>\n",
       "    <tr style=\"text-align: right;\">\n",
       "      <th></th>\n",
       "      <th>Name</th>\n",
       "      <th>Very interested</th>\n",
       "      <th>Somewhat interested</th>\n",
       "      <th>Not interested</th>\n",
       "    </tr>\n",
       "  </thead>\n",
       "  <tbody>\n",
       "    <tr>\n",
       "      <th>1</th>\n",
       "      <td>Data Analysis / Statistics</td>\n",
       "      <td>12.96</td>\n",
       "      <td>3.41</td>\n",
       "      <td>0.46</td>\n",
       "    </tr>\n",
       "    <tr>\n",
       "      <th>5</th>\n",
       "      <td>Machine Learning</td>\n",
       "      <td>12.51</td>\n",
       "      <td>3.66</td>\n",
       "      <td>0.57</td>\n",
       "    </tr>\n",
       "    <tr>\n",
       "      <th>3</th>\n",
       "      <td>Data Visualization</td>\n",
       "      <td>10.29</td>\n",
       "      <td>5.64</td>\n",
       "      <td>0.78</td>\n",
       "    </tr>\n",
       "    <tr>\n",
       "      <th>0</th>\n",
       "      <td>Big Data (Spark / Hadoop)</td>\n",
       "      <td>10.23</td>\n",
       "      <td>5.60</td>\n",
       "      <td>0.98</td>\n",
       "    </tr>\n",
       "    <tr>\n",
       "      <th>4</th>\n",
       "      <td>Deep Learning</td>\n",
       "      <td>9.70</td>\n",
       "      <td>5.91</td>\n",
       "      <td>1.04</td>\n",
       "    </tr>\n",
       "    <tr>\n",
       "      <th>2</th>\n",
       "      <td>Data Journalism</td>\n",
       "      <td>3.29</td>\n",
       "      <td>8.30</td>\n",
       "      <td>4.68</td>\n",
       "    </tr>\n",
       "  </tbody>\n",
       "</table>\n",
       "</div>"
      ],
      "text/plain": [
       "                         Name  Very interested  Somewhat interested  \\\n",
       "1  Data Analysis / Statistics            12.96                 3.41   \n",
       "5            Machine Learning            12.51                 3.66   \n",
       "3          Data Visualization            10.29                 5.64   \n",
       "0   Big Data (Spark / Hadoop)            10.23                 5.60   \n",
       "4               Deep Learning             9.70                 5.91   \n",
       "2             Data Journalism             3.29                 8.30   \n",
       "\n",
       "   Not interested  \n",
       "1            0.46  \n",
       "5            0.57  \n",
       "3            0.78  \n",
       "0            0.98  \n",
       "4            1.04  \n",
       "2            4.68  "
      ]
     },
     "execution_count": 154,
     "metadata": {},
     "output_type": "execute_result"
    }
   ],
   "source": [
    "df = pd.read_csv('/opt/datascience/course/DataVisualizationWithPython/lab/Topic_Survey_Assignment.csv')\n",
    "total = df.sum(axis=1).sum()\n",
    "df.rename(columns={'Unnamed: 0':'Name'}, inplace=True)\n",
    "df['Very interested']= np.round((df['Very interested']/total)*100,decimals=2)\n",
    "df['Somewhat interested']= np.round((df['Somewhat interested']/total)*100,decimals=2)\n",
    "df['Not interested']= np.round((df['Not interested']/total)*100,decimals=2)\n",
    "df.sort_values(by=['Very interested'],axis=0, ascending=False, inplace=True)\n",
    "df"
   ]
  },
  {
   "cell_type": "code",
   "execution_count": 155,
   "metadata": {
    "scrolled": true
   },
   "outputs": [
    {
     "data": {
      "image/png": "[encoded data removed]",
      "text/plain": [
       "<Figure size 1440x576 with 1 Axes>"
      ]
     },
     "metadata": {
      "needs_background": "light"
     },
     "output_type": "display_data"
    }
   ],
   "source": [
    "df.plot(kind='bar',figsize=(20,8), fontsize=14,x='Name',color=['#5cb85c','#5bc0de','#d9534f'],width=0.8)\n",
    "plt.tick_params(top=False, bottom=True, left=False, right=False, labelleft=False, labelbottom=True)\n",
    "\n",
    "\n",
    "plt.title(\"Percentage of Respondents' Interest in Data Science Areas\",fontsize=16)\n",
    "plt.legend()\n",
    "plt.show()"
   ]
  },
  {
   "cell_type": "code",
   "execution_count": null,
   "metadata": {},
   "outputs": [],
   "source": []
  }
 ],
 "metadata": {
  "kernelspec": {
   "display_name": "Python 3",
   "language": "python",
   "name": "python3"
  },
  "language_info": {
   "codemirror_mode": {
    "name": "ipython",
    "version": 3
   },
   "file_extension": ".py",
   "mimetype": "text/x-python",
   "name": "python",
   "nbconvert_exporter": "python",
   "pygments_lexer": "ipython3",
   "version": "3.5.2"
  }
 },
 "nbformat": 4,
 "nbformat_minor": 2
}
